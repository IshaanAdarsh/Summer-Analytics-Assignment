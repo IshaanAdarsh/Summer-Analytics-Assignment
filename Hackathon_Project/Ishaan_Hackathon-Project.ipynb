{
 "cells":[
  {
   "cell_type":"code",
   "source":[
    "import pandas as pd\n",
    "from sklearn.model_selection import train_test_split\n",
    "from sklearn.preprocessing import LabelEncoder\n",
    "from sklearn.metrics import f1_score\n",
    "from sklearn.ensemble import RandomForestClassifier\n",
    "from sklearn.impute import SimpleImputer\n",
    "\n",
    "# Read the train data\n",
    "train_data = pd.read_csv('Train_Data.csv')\n",
    "\n",
    "# Separate features (X) and target variable (y)\n",
    "X_train = train_data.drop('Healthy', axis=1)\n",
    "y_train = train_data['Healthy']\n",
    "\n",
    "# Read the test data\n",
    "test_data = pd.read_csv('Test_Data.csv')\n",
    "\n",
    "# Preprocess the data\n",
    "\n",
    "# Encode categorical variables\n",
    "encoder = LabelEncoder()\n",
    "for column in ['Specific ailments', 'Food preference', 'Smoker?', 'Living in?', 'Any heriditary condition?',\n",
    "               'Follow Diet', 'Mental health management']:\n",
    "    X_train[column] = encoder.fit_transform(X_train[column].astype(str))\n",
    "    test_data[column] = encoder.transform(test_data[column].astype(str))\n",
    "\n",
    "# Handle missing values in the train and test data\n",
    "imputer = SimpleImputer(strategy='mean')\n",
    "X_train = pd.DataFrame(imputer.fit_transform(X_train), columns=X_train.columns)\n",
    "test_data = pd.DataFrame(imputer.transform(test_data), columns=test_data.columns)\n",
    "\n",
    "# Split the data into training and validation sets\n",
    "X_train, X_val, y_train, y_val = train_test_split(X_train, y_train, test_size=0.2, random_state=42)\n",
    "\n",
    "# Train the model\n",
    "model = RandomForestClassifier(random_state=42)\n",
    "model.fit(X_train, y_train)\n",
    "\n",
    "# Predict on the validation set\n",
    "y_val_pred = model.predict(X_val)\n",
    "\n",
    "# Evaluate the model\n",
    "f1 = f1_score(y_val, y_val_pred)\n",
    "print(\"F1 score:\", f1)\n",
    "\n",
    "# Predict on the test data\n",
    "y_test_pred = model.predict(test_data)\n",
    "\n",
    "# Prepare submission\n",
    "submission = pd.DataFrame({'predictions': y_test_pred})\n",
    "\n",
    "# Save the submission to a CSV file\n",
    "submission.to_csv('submission.csv', index=False)\n"
   ],
   "execution_count":10,
   "outputs":[
    {
     "name":"stdout",
     "text":[
      "F1 score: 0.8613381774144716\n"
     ],
     "output_type":"stream"
    }
   ],
   "metadata":{
    "datalore":{
     "node_id":"N26l2yUgPOFWCDbUUpH2IH",
     "type":"CODE",
     "hide_input_from_viewers":true,
     "hide_output_from_viewers":true
    }
   }
  }
 ],
 "metadata":{
  "kernelspec":{
   "display_name":"Python",
   "language":"python",
   "name":"python"
  },
  "datalore":{
   "computation_mode":"JUPYTER",
   "package_manager":"pip",
   "base_environment":"default",
   "packages":[
    
   ],
   "report_row_ids":[
    
   ],
   "version":3
  }
 },
 "nbformat":4,
 "nbformat_minor":4
}