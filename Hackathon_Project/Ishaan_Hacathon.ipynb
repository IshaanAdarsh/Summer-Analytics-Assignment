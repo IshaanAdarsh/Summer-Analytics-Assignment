{
 "cells": [
  {
   "attachments": {},
   "cell_type": "markdown",
   "metadata": {
    "datalore": {
     "hide_input_from_viewers": false,
     "hide_output_from_viewers": false,
     "node_id": "7bnFt7HoPznJY88oriwnl8",
     "report_properties": {
      "rowId": "iKsVOCdjSaPXtjC80T1h2W"
     },
     "type": "MD"
    }
   },
   "source": [
    "Ishaan_Hackathon"
   ]
  },
  {
   "cell_type": "code",
   "execution_count": 213,
   "metadata": {
    "datalore": {
     "hide_input_from_viewers": false,
     "hide_output_from_viewers": false,
     "node_id": "TMpM0WO2iqTQR4FoRZuh6V",
     "report_properties": {
      "rowId": "O2Rk3DvwvLxs7Nu9WwjTj0"
     },
     "type": "CODE"
    }
   },
   "outputs": [
    {
     "data": {
      "text/html": [
       "<div>\n",
       "<style scoped>\n",
       "    .dataframe tbody tr th:only-of-type {\n",
       "        vertical-align: middle;\n",
       "    }\n",
       "\n",
       "    .dataframe tbody tr th {\n",
       "        vertical-align: top;\n",
       "    }\n",
       "\n",
       "    .dataframe thead th {\n",
       "        text-align: right;\n",
       "    }\n",
       "</style>\n",
       "<table border=\"1\" class=\"dataframe\">\n",
       "  <thead>\n",
       "    <tr style=\"text-align: right;\">\n",
       "      <th></th>\n",
       "      <th>ID1</th>\n",
       "      <th>Specific ailments</th>\n",
       "      <th>ID2</th>\n",
       "      <th>Food preference</th>\n",
       "      <th>Age</th>\n",
       "      <th>BMI</th>\n",
       "      <th>Smoker?</th>\n",
       "      <th>Living in?</th>\n",
       "      <th>Any heriditary condition?</th>\n",
       "      <th>Follow Diet</th>\n",
       "      <th>Physical activity</th>\n",
       "      <th>Regular sleeping hours</th>\n",
       "      <th>Alcohol consumption</th>\n",
       "      <th>Social interaction</th>\n",
       "      <th>Taking supplements</th>\n",
       "      <th>Mental health management</th>\n",
       "      <th>Illness count last year</th>\n",
       "      <th>Healthy</th>\n",
       "    </tr>\n",
       "  </thead>\n",
       "  <tbody>\n",
       "    <tr>\n",
       "      <th>0</th>\n",
       "      <td>2408</td>\n",
       "      <td>44</td>\n",
       "      <td>2668</td>\n",
       "      <td>DX6</td>\n",
       "      <td>49</td>\n",
       "      <td>20.500470</td>\n",
       "      <td>NO</td>\n",
       "      <td>RURAL</td>\n",
       "      <td>Stable</td>\n",
       "      <td>1.0</td>\n",
       "      <td>0.0</td>\n",
       "      <td>0.0</td>\n",
       "      <td>0.0</td>\n",
       "      <td>0.0</td>\n",
       "      <td>0.0</td>\n",
       "      <td>0.0</td>\n",
       "      <td>1.0</td>\n",
       "      <td>1</td>\n",
       "    </tr>\n",
       "    <tr>\n",
       "      <th>1</th>\n",
       "      <td>25063</td>\n",
       "      <td>39</td>\n",
       "      <td>10363</td>\n",
       "      <td>DX3 DX4</td>\n",
       "      <td>20</td>\n",
       "      <td>26.076580</td>\n",
       "      <td>NO</td>\n",
       "      <td>URBAN</td>\n",
       "      <td>Stable</td>\n",
       "      <td>0.0</td>\n",
       "      <td>0.0</td>\n",
       "      <td>0.0</td>\n",
       "      <td>0.0</td>\n",
       "      <td>1.0</td>\n",
       "      <td>0.0</td>\n",
       "      <td>0.0</td>\n",
       "      <td>1.0</td>\n",
       "      <td>1</td>\n",
       "    </tr>\n",
       "    <tr>\n",
       "      <th>2</th>\n",
       "      <td>26798</td>\n",
       "      <td>29</td>\n",
       "      <td>132</td>\n",
       "      <td>DX6</td>\n",
       "      <td>1</td>\n",
       "      <td>21.420866</td>\n",
       "      <td>NO</td>\n",
       "      <td>URBAN</td>\n",
       "      <td>Stable</td>\n",
       "      <td>1.0</td>\n",
       "      <td>0.0</td>\n",
       "      <td>0.0</td>\n",
       "      <td>0.0</td>\n",
       "      <td>0.0</td>\n",
       "      <td>0.0</td>\n",
       "      <td>0.0</td>\n",
       "      <td>1.0</td>\n",
       "      <td>0</td>\n",
       "    </tr>\n",
       "    <tr>\n",
       "      <th>3</th>\n",
       "      <td>31907</td>\n",
       "      <td>27</td>\n",
       "      <td>10499</td>\n",
       "      <td>DX1</td>\n",
       "      <td>30</td>\n",
       "      <td>25.203247</td>\n",
       "      <td>NO</td>\n",
       "      <td>RURAL</td>\n",
       "      <td>Stable</td>\n",
       "      <td>1.0</td>\n",
       "      <td>0.0</td>\n",
       "      <td>0.0</td>\n",
       "      <td>0.0</td>\n",
       "      <td>0.0</td>\n",
       "      <td>0.0</td>\n",
       "      <td>0.0</td>\n",
       "      <td>1.0</td>\n",
       "      <td>1</td>\n",
       "    </tr>\n",
       "    <tr>\n",
       "      <th>4</th>\n",
       "      <td>26412</td>\n",
       "      <td>9</td>\n",
       "      <td>7963</td>\n",
       "      <td>DX6</td>\n",
       "      <td>40</td>\n",
       "      <td>19.355846</td>\n",
       "      <td>YES</td>\n",
       "      <td>RURAL</td>\n",
       "      <td>Stable</td>\n",
       "      <td>1.0</td>\n",
       "      <td>0.0</td>\n",
       "      <td>0.0</td>\n",
       "      <td>0.0</td>\n",
       "      <td>1.0</td>\n",
       "      <td>0.0</td>\n",
       "      <td>0.0</td>\n",
       "      <td>2.0</td>\n",
       "      <td>1</td>\n",
       "    </tr>\n",
       "  </tbody>\n",
       "</table>\n",
       "</div>"
      ]
     },
     "metadata": {},
     "output_type": "display_data"
    }
   ],
   "source": [
    "import pandas as pd\n",
    "from sklearn.preprocessing import LabelEncoder\n",
    "from sklearn.model_selection import train_test_split\n",
    "from sklearn.ensemble import GradientBoostingClassifier\n",
    "from xgboost import XGBClassifier\n",
    "from sklearn.ensemble import RandomForestClassifier\n",
    "\n",
    "\n",
    "# Load the dataset\n",
    "data = pd.read_csv('Train_Data.csv')\n",
    "\n",
    "# Take a look at the data\n",
    "data.head()"
   ]
  },
  {
   "attachments": {},
   "cell_type": "markdown",
   "metadata": {
    "datalore": {
     "hide_input_from_viewers": false,
     "hide_output_from_viewers": false,
     "node_id": "vryFfnB1utXns8oPokSP8X",
     "report_properties": {
      "rowId": "L1V4ixCHiZfuqKPvQB1RRO"
     },
     "type": "MD"
    }
   },
   "source": [
    "Checking data types to encode other types to int"
   ]
  },
  {
   "cell_type": "code",
   "execution_count": 214,
   "metadata": {
    "datalore": {
     "hide_input_from_viewers": false,
     "hide_output_from_viewers": false,
     "node_id": "KgyjPpZRyA4TitbV9CL0M8",
     "report_properties": {
      "rowId": "J1Nxl58SzL7eiPx73sNbzq"
     },
     "type": "CODE"
    }
   },
   "outputs": [
    {
     "data": {
      "text/html": [
       "<pre>ID1                            int64\n",
       "Specific ailments              int64\n",
       "ID2                            int64\n",
       "Food preference               object\n",
       "Age                            int64\n",
       "BMI                          float64\n",
       "Smoker?                       object\n",
       "Living in?                    object\n",
       "Any heriditary condition?     object\n",
       "Follow Diet                  float64\n",
       "Physical activity            float64\n",
       "Regular sleeping hours       float64\n",
       "Alcohol consumption          float64\n",
       "Social interaction           float64\n",
       "Taking supplements           float64\n",
       "Mental health management     float64\n",
       "Illness count last year      float64\n",
       "Healthy                        int64\n",
       "dtype: object</pre>"
      ]
     },
     "metadata": {},
     "output_type": "display_data"
    }
   ],
   "source": [
    "data.dtypes"
   ]
  },
  {
   "cell_type": "code",
   "execution_count": 215,
   "metadata": {
    "datalore": {
     "hide_input_from_viewers": false,
     "hide_output_from_viewers": false,
     "node_id": "CSdiRY7P56yIzs9mMC4eDu",
     "report_properties": {
      "rowId": "XkQyBFMh1CuXJfITnG18lG"
     },
     "type": "CODE"
    }
   },
   "outputs": [],
   "source": [
    "# Label encode categorical columns from string to int\n",
    "categorical_cols = ['Specific ailments', 'Food preference', 'Smoker?', 'Living in?', 'Any heriditary condition?',\n",
    "               'Follow Diet', 'Mental health management']\n",
    "label_encoder = LabelEncoder()\n",
    "for col in categorical_cols:\n",
    "    data[col] = label_encoder.fit_transform(data[col])"
   ]
  },
  {
   "cell_type": "code",
   "execution_count": 216,
   "metadata": {
    "datalore": {
     "hide_input_from_viewers": false,
     "hide_output_from_viewers": false,
     "node_id": "xUVgtwRxYiwe3exBmAHbhK",
     "report_properties": {
      "rowId": "sR9UEAlepwHdLfiQufjW5M"
     },
     "type": "CODE"
    }
   },
   "outputs": [],
   "source": [
    "data = data.fillna(data.mean())"
   ]
  },
  {
   "cell_type": "code",
   "execution_count": 217,
   "metadata": {
    "datalore": {
     "hide_input_from_viewers": false,
     "hide_output_from_viewers": false,
     "node_id": "w7gycc4tXTJEYgbGlZw2Qg",
     "report_properties": {
      "rowId": "snNvUUJcQSz1035Yiwn76i"
     },
     "type": "CODE"
    }
   },
   "outputs": [],
   "source": [
    "X = data.drop('Healthy', axis=1)\n",
    "y = data['Healthy']\n",
    "X_train, X_test, y_train, y_test = train_test_split(X, y, test_size=0.2, random_state=42)"
   ]
  },
  {
   "cell_type": "code",
   "execution_count": 218,
   "metadata": {
    "datalore": {
     "hide_input_from_viewers": false,
     "hide_output_from_viewers": false,
     "node_id": "baerUumhiSsbp5HwKQ7mxv",
     "report_properties": {
      "rowId": "aofqQhGwwoc3CYX42gXBVj"
     },
     "type": "CODE"
    }
   },
   "outputs": [],
   "source": [
    "from sklearn.metrics import accuracy_score\n",
    "\n",
    "model = XGBClassifier()\n",
    "model.fit(X_train, y_train)\n",
    "y_pred = model.predict(X_test)"
   ]
  },
  {
   "cell_type": "code",
   "execution_count": 219,
   "metadata": {
    "datalore": {
     "hide_input_from_viewers": false,
     "hide_output_from_viewers": false,
     "node_id": "454dNUjeYkEjUcXFqKoMwh",
     "report_properties": {
      "rowId": "guTkxtaBCjRqzcspTJMFxw"
     },
     "type": "CODE"
    }
   },
   "outputs": [],
   "source": [
    "#Retesting the model\n",
    "\n",
    "model = GradientBoostingClassifier(learning_rate = 0.05 , max_depth = 4,  n_estimators = 100)\n",
    "model.fit(X_train, y_train)\n",
    "y_pred = model.predict(X_test)"
   ]
  },
  {
   "cell_type": "code",
   "execution_count": 220,
   "metadata": {
    "datalore": {
     "hide_input_from_viewers": false,
     "hide_output_from_viewers": false,
     "node_id": "iVqDvYcjX8QbiiuatCZGvd",
     "report_properties": {
      "rowId": "dBTsGDSYV0iPlHb7E12yQ6"
     },
     "type": "CODE"
    }
   },
   "outputs": [],
   "source": [
    "test_data = pd.read_csv('Test_Data.csv')\n",
    "test_data = test_data[X_train.columns]"
   ]
  },
  {
   "cell_type": "code",
   "execution_count": 221,
   "metadata": {
    "datalore": {
     "hide_input_from_viewers": false,
     "hide_output_from_viewers": false,
     "node_id": "RrbAh4qC9fF5fEQ238h7BM",
     "report_properties": {
      "rowId": "X78vgvWBO8BxzN3uggFSLu"
     },
     "type": "CODE"
    }
   },
   "outputs": [],
   "source": [
    "categorical_cols = ['Specific ailments', 'Food preference', 'Smoker?', 'Living in?', 'Any heriditary condition?',\n",
    "               'Follow Diet', 'Mental health management']\n",
    "label_encoder = LabelEncoder()\n",
    "for col in categorical_cols:\n",
    "    test_data[col] = label_encoder.fit_transform(test_data[col])\n",
    "\n",
    "#Deal with NaN values\n",
    "test_data = test_data.fillna(0)"
   ]
  },
  {
   "cell_type": "code",
   "execution_count": 222,
   "metadata": {
    "datalore": {
     "hide_input_from_viewers": false,
     "hide_output_from_viewers": false,
     "node_id": "mlBmMm2s5r7ISb5bxuB4ef",
     "report_properties": {
      "rowId": "bbGY2cVcMx5DLzuRwZvjcE"
     },
     "type": "CODE"
    }
   },
   "outputs": [],
   "source": [
    "y_test_pred = model.predict(test_data)\n",
    "\n",
    "# Prepare submission\n",
    "submission = pd.DataFrame({'predictions': y_test_pred})\n",
    "submission = submission.astype(int)\n",
    "# Save the submission to a CSV file\n",
    "submission.to_csv('submission.csv', index=False)"
   ]
  },
  {
   "attachments": {},
   "cell_type": "markdown",
   "metadata": {
    "datalore": {
     "hide_input_from_viewers": false,
     "hide_output_from_viewers": false,
     "node_id": "JDAlvenAF9rBeM1VQpxMtZ",
     "report_properties": {
      "rowId": "M2AK96HCCGruvgZuk7hzbt"
     },
     "type": "MD"
    }
   },
   "source": []
  },
  {
   "attachments": {},
   "cell_type": "markdown",
   "metadata": {
    "datalore": {
     "hide_input_from_viewers": false,
     "hide_output_from_viewers": false,
     "node_id": "euhTsv2zp0ApxwGcXqjpD9",
     "report_properties": {
      "rowId": "Xol64eD0ydVhfeGCDZDiod"
     },
     "type": "MD"
    }
   },
   "source": []
  }
 ],
 "metadata": {
  "datalore": {
   "base_environment": "default",
   "computation_mode": "JUPYTER",
   "package_manager": "pip",
   "packages": [],
   "report_row_ids": [
    "iKsVOCdjSaPXtjC80T1h2W",
    "O2Rk3DvwvLxs7Nu9WwjTj0",
    "L1V4ixCHiZfuqKPvQB1RRO",
    "J1Nxl58SzL7eiPx73sNbzq",
    "XkQyBFMh1CuXJfITnG18lG",
    "CvEJvfGz4k0miX81bQF1nr",
    "sR9UEAlepwHdLfiQufjW5M",
    "Vhd0pBz7wCcgqNsfzSPgWc",
    "snNvUUJcQSz1035Yiwn76i",
    "vVhBU2ikvQ8oQ6Pypzy5Og",
    "aofqQhGwwoc3CYX42gXBVj",
    "guTkxtaBCjRqzcspTJMFxw",
    "aah8A51tNnIHEAvygOd7fq",
    "FmPkcBaCneHqSe5EoBjx1U",
    "eyo4EuHxUmqljkIaFjgJXX",
    "RZLLtAjSbMUHRjAVYfJWN0",
    "dBTsGDSYV0iPlHb7E12yQ6",
    "q0z16QQV8umDh6kj8vqAYa",
    "X78vgvWBO8BxzN3uggFSLu",
    "Ujuym2HAYiUHEoFCLnHsfN",
    "bbGY2cVcMx5DLzuRwZvjcE",
    "M2AK96HCCGruvgZuk7hzbt",
    "Xol64eD0ydVhfeGCDZDiod"
   ],
   "version": 3
  },
  "kernelspec": {
   "display_name": "Python",
   "language": "python",
   "name": "python"
  }
 },
 "nbformat": 4,
 "nbformat_minor": 4
}
