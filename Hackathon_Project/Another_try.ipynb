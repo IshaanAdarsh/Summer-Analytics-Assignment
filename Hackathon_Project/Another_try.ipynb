{
 "cells":[
  {
   "cell_type":"code",
   "source":[
    "import pandas as pd\n",
    "import numpy as np\n",
    "import matplotlib.pyplot as plt\n",
    "from sklearn.preprocessing import LabelEncoder\n",
    "from sklearn.impute import KNNImputer\n",
    "from sklearn.preprocessing import MinMaxScaler\n",
    "from sklearn.feature_selection import SelectKBest\n",
    "from sklearn.feature_selection import f_classif\n",
    "from sklearn.model_selection import train_test_split\n",
    "from sklearn.metrics import f1_score\n",
    "from sklearn.metrics import classification_report\n",
    "from sklearn.ensemble import RandomForestClassifier\n",
    "from sklearn.linear_model import LogisticRegression\n",
    "from sklearn.svm import SVC\n",
    "from sklearn.tree import DecisionTreeClassifier\n",
    "from sklearn.neighbors import KNeighborsClassifier\n",
    "from sklearn.naive_bayes import GaussianNB\n",
    "from sklearn.neural_network import MLPClassifier\n",
    "from sklearn.discriminant_analysis import LinearDiscriminantAnalysis\n",
    "from sklearn.ensemble import AdaBoostClassifier\n",
    "from sklearn.ensemble import GradientBoostingClassifier\n",
    "from sklearn.ensemble import AdaBoostClassifier\n",
    "from sklearn.ensemble import BaggingClassifier\n",
    "from sklearn.ensemble import ExtraTreesClassifier\n",
    "from xgboost import XGBClassifier\n",
    "from sklearn.metrics import accuracy_score\n",
    "\n",
    "\n",
    "# Load the dataset\n",
    "data = pd.read_csv('Train_Data.csv')"
   ],
   "execution_count":1,
   "outputs":[
    
   ],
   "metadata":{
    "datalore":{
     "node_id":"ClVAV1hWlDIYza0926cO92",
     "type":"CODE",
     "hide_input_from_viewers":false,
     "hide_output_from_viewers":false,
     "report_properties":{
      "rowId":"oXifUwRG54P459pak2sRiM"
     }
    }
   }
  },
  {
   "cell_type":"code",
   "source":[
    "# Label encode categorical columns from string to int\n",
    "categorical_cols = ['Specific ailments', 'Food preference', 'Smoker?', 'Living in?', 'Any heriditary condition?',\n",
    "               'Follow Diet', 'Mental health management']\n",
    "label_encoder = LabelEncoder()\n",
    "for col in categorical_cols:\n",
    "    data[col] = label_encoder.fit_transform(data[col])\n",
    "\n",
    "\n",
    "data = data.fillna(data.mean())\n",
    "\n",
    "\n",
    "X = data.drop('Healthy', axis=1)\n",
    "y = data['Healthy']\n",
    "\n",
    "#\n",
    "\n",
    "X_train, X_test, y_train, y_test = train_test_split(X, y, test_size=0.2, random_state=42)"
   ],
   "execution_count":2,
   "outputs":[
    
   ],
   "metadata":{
    "datalore":{
     "node_id":"eBLQUiw3Z0NyOGLivOux9u",
     "type":"CODE",
     "hide_input_from_viewers":false,
     "hide_output_from_viewers":false,
     "report_properties":{
      "rowId":"JmUdDzoyCNH6t3Vm8NkaaK"
     }
    }
   }
  },
  {
   "cell_type":"code",
   "source":[
    "from sklearn.metrics import accuracy_score\n",
    "\n",
    "model = XGBClassifier(colsample_bytree = 0.9, learning_rate = 0.12, max_depth = 4, n_estimators = 200, subsample = 0.8,gamma = 0.1)\n",
    "model.fit(X_train, y_train)\n",
    "y_pred = model.predict(X_test)\n",
    "print(model)\n",
    "print(accuracy_score(y_test, y_pred))\n",
    "print(f1_score(y_test, y_pred))"
   ],
   "execution_count":11,
   "outputs":[
    
   ],
   "metadata":{
    "datalore":{
     "node_id":"g1GPd7EY6dsZvvWxzOCW2t",
     "type":"CODE",
     "hide_input_from_viewers":false,
     "hide_output_from_viewers":false,
     "report_properties":{
      "rowId":"qXbG31F20PAHcmAJs9qnCs"
     }
    }
   }
  },
  {
   "cell_type":"code",
   "source":[
    "test_data = pd.read_csv('Test_Data.csv')\n",
    "test_data = test_data[X_train.columns]\n",
    "\n",
    "categorical_cols = ['Specific ailments', 'Food preference', 'Smoker?', 'Living in?', 'Any heriditary condition?',\n",
    "               'Follow Diet', 'Mental health management']\n",
    "label_encoder = LabelEncoder()\n",
    "for col in categorical_cols:\n",
    "    test_data[col] = label_encoder.fit_transform(test_data[col])\n",
    "\n",
    "#Deal with nan values\n",
    "test_data = test_data.fillna(test_data.mean())\n",
    "\n",
    "y_test_pred = model.predict(test_data)\n",
    "\n",
    "# Prepare submission\n",
    "submission = pd.DataFrame({'predictions': y_test_pred})\n",
    "submission = submission.astype(int)\n",
    "# Save the submission to a CSV file\n",
    "submission.to_csv('submission.csv', index=False)"
   ],
   "execution_count":41,
   "outputs":[
    
   ],
   "metadata":{
    "datalore":{
     "node_id":"QH8SQq8lpCilLjjcNYB1RW",
     "type":"CODE",
     "hide_input_from_viewers":false,
     "hide_output_from_viewers":false,
     "report_properties":{
      "rowId":"t9NlonKkYgtASjfg4ptPdN"
     }
    }
   }
  }
 ],
 "metadata":{
  "kernelspec":{
   "display_name":"Python",
   "language":"python",
   "name":"python"
  },
  "datalore":{
   "computation_mode":"JUPYTER",
   "package_manager":"pip",
   "base_environment":"default",
   "packages":[
    {
     "name":"hyperopt",
     "version":"0.2.7",
     "source":"PIP"
    }
   ],
   "report_row_ids":[
    "MY2JX3jfk8i5scpFJQKyEY",
    "oXifUwRG54P459pak2sRiM",
    "t887NLgdDntW9sdJfPlYPL",
    "WQ75gmMulGVZYk5ScJZaio",
    "JmUdDzoyCNH6t3Vm8NkaaK",
    "7L84gQ9F4W89PjcDVKrD8A",
    "KNYuTN7K7GPVjETzAjW3A8",
    "ZlCzOVhgIX2qGyfDfrNoDZ",
    "1BA2exwSih8cSKDlfZSYi2",
    "7lgxt6UxXE9wbt99s82nku",
    "ZQ2JLn6QwOk8CS7zZ24bdo",
    "qXbG31F20PAHcmAJs9qnCs",
    "IQL3KSy09A6hBJblrGiO6j",
    "LuxjQF7niUZ1YPJZS3daPl",
    "pMNE3ARUH9p3iwy7o8T20n",
    "Q44lrFWPoiz2xvLSrbhCGj",
    "u5EbHbnzC52KuEwkQbzhSz",
    "warNVwmFfIXYkGlsmxo4Pl",
    "4ArxBtGUhBehPo0qu4NIu8",
    "vwzJm07NPG72ZFFwSTwY1m",
    "t9NlonKkYgtASjfg4ptPdN",
    "BUDBZOWPblD4BIHYzocaFl",
    "9oAqk7meGrtTpwnZRKzsg2",
    "FInlPrZ2YH1hnJUnx1mDw7",
    "zIwIBrVRro2jcEKmTGE1l7"
   ],
   "version":3
  }
 },
 "nbformat":4,
 "nbformat_minor":4
}